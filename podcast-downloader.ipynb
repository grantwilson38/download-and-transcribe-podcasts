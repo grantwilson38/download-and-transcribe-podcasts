{
 "cells": [
  {
   "cell_type": "markdown",
   "id": "326d4f34",
   "metadata": {},
   "source": [
    "## Download podcasts"
   ]
  },
  {
   "cell_type": "code",
   "execution_count": 1,
   "id": "9565dd74",
   "metadata": {},
   "outputs": [],
   "source": [
    "import requests\n",
    "import os\n",
    "import re\n",
    "from bs4 import BeautifulSoup\n",
    "import lxml"
   ]
  },
  {
   "cell_type": "code",
   "execution_count": 2,
   "id": "9c7def44",
   "metadata": {
    "scrolled": true
   },
   "outputs": [],
   "source": [
    "rss_feed_url = \"https://feeds.megaphone.fm/darknetdiaries\"\n",
    "\n",
    "page = requests.get(rss_feed_url)\n",
    "soup = BeautifulSoup(page.content,'xml')"
   ]
  },
  {
   "cell_type": "code",
   "execution_count": 3,
   "id": "d61ae628",
   "metadata": {},
   "outputs": [],
   "source": [
    "podcast_items = soup.find_all('item')"
   ]
  },
  {
   "cell_type": "code",
   "execution_count": 4,
   "id": "936ac3be",
   "metadata": {},
   "outputs": [],
   "source": [
    "count = 0\n",
    "for podcast in podcast_items:\n",
    "    if count == 5:\n",
    "        break\n",
    "        \n",
    "    title = podcast.find('title').text\n",
    "    title = re.sub(r'[^\\w\\s-]', '', title).strip()\n",
    "    title = re.sub(r'[-\\s]+', '-', title)\n",
    "    description = podcast.find('description').text\n",
    "    mp3_url = podcast.find('enclosure')['url']\n",
    "    \n",
    "    if re.search(r'hackers', description, re.I):\n",
    "        mp3_file = requests.get(mp3_url)\n",
    "        with open(f'./downloads/{title}.mp3','wb') as f:\n",
    "            f.write(mp3_file.content)\n",
    "            \n",
    "        count += 1"
   ]
  },
  {
   "cell_type": "markdown",
   "id": "38f0de09",
   "metadata": {},
   "source": [
    "## Transcribe podcasts"
   ]
  },
  {
   "cell_type": "code",
   "execution_count": 5,
   "id": "3b98e559",
   "metadata": {},
   "outputs": [],
   "source": [
    "api_key = os.environ['ASSEMBLY_AI_KEY']"
   ]
  },
  {
   "cell_type": "code",
   "execution_count": 6,
   "id": "645387ed",
   "metadata": {},
   "outputs": [],
   "source": [
    "def read_file(filename, chunk_size=5242880):\n",
    "    with open(filename, 'rb') as _file:\n",
    "        while True:\n",
    "            data = _file.read(chunk_size)\n",
    "            if not data:\n",
    "                break\n",
    "            yield data"
   ]
  },
  {
   "cell_type": "code",
   "execution_count": 7,
   "id": "8a741b23",
   "metadata": {},
   "outputs": [
    {
     "name": "stdout",
     "output_type": "stream",
     "text": [
      "Uploading 103-Cloud-Hopper.mp3\n",
      "Uploading 112-Dirty-Coms.mp3\n",
      "Uploading 123-Newswires.mp3\n",
      "Uploading 94-Mariposa.mp3\n",
      "Uploading 98-Zero-Day-Brokers.mp3\n"
     ]
    }
   ],
   "source": [
    "headers = {\n",
    "        \"authorization\": os.environ['ASSEMBLY_AI_KEY'],\n",
    "        \"content-type\": \"application/json\"\n",
    "}\n",
    "\n",
    "# Upload podcasts to Assembly AI for transcription\n",
    "file_names = os.listdir('./downloads')\n",
    "upload_urls = []\n",
    "output_ids = []\n",
    "for file in file_names:\n",
    "    file_path = f'./downloads/{file}'\n",
    "    print(\"Uploading\", file)\n",
    "    \n",
    "    base_url = \"https://api.assemblyai.com/v2\"    \n",
    "    response = requests.post(base_url + \"/upload\",\n",
    "                          headers=headers,\n",
    "                          data=read_file(file_path))\n",
    "                          \n",
    "    upload_url = response.json()[\"upload_url\"]\n",
    "    upload_urls.append(upload_url)\n",
    "    \n",
    "    endpoint = f\"https://api.assemblyai.com/v2/transcript\" \n",
    "    json = {     \n",
    "        \"audio_url\": response.json()['upload_url'],\n",
    "        \"audio_start_from\":300000,\n",
    "         \"audio_end_at\":600000,\n",
    "    }\n",
    "\n",
    "    url = base_url + \"/transcript\"\n",
    "\n",
    "    response = requests.post(endpoint, json=json, headers=headers)\n",
    "    transcript_id = response.json()['id']\n",
    "    output_ids.append(transcript_id)"
   ]
  },
  {
   "cell_type": "code",
   "execution_count": 8,
   "id": "6cae8ebc",
   "metadata": {},
   "outputs": [
    {
     "name": "stdout",
     "output_type": "stream",
     "text": [
      "got transcript\n",
      "got transcript\n",
      "got transcript\n",
      "got transcript\n",
      "Couldn't retrieve transcript; try again later\n",
      "got transcript\n"
     ]
    }
   ],
   "source": [
    "import time\n",
    "\n",
    "for transcript_id in output_ids:    \n",
    "    endpoint = f\"https://api.assemblyai.com/v2/transcript/{transcript_id}\"\n",
    "    while True:\n",
    "        response = requests.get(endpoint, headers= headers)\n",
    "        status = response.json()['status']\n",
    "        if status == 'completed':\n",
    "            print(\"got transcript\")\n",
    "            with open(f'./transcripts/{transcript_id}.txt', 'w') as f:\n",
    "                f.write(response.json()['text'])\n",
    "            break\n",
    "            \n",
    "        print(\"Couldn't retrieve transcript; try again later\")\n",
    "        time.sleep(180)"
   ]
  }
 ],
 "metadata": {
  "kernelspec": {
   "display_name": "Python 3 (ipykernel)",
   "language": "python",
   "name": "python3"
  },
  "language_info": {
   "codemirror_mode": {
    "name": "ipython",
    "version": 3
   },
   "file_extension": ".py",
   "mimetype": "text/x-python",
   "name": "python",
   "nbconvert_exporter": "python",
   "pygments_lexer": "ipython3",
   "version": "3.11.5"
  }
 },
 "nbformat": 4,
 "nbformat_minor": 5
}
